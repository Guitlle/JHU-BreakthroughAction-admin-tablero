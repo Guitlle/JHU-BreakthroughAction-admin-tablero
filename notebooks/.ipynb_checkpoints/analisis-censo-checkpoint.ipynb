{
 "cells": [
  {
   "cell_type": "code",
   "execution_count": 66,
   "id": "8682e7e9-b14b-457f-9242-ddf11e13e9c4",
   "metadata": {},
   "outputs": [
    {
     "name": "stdout",
     "output_type": "stream",
     "text": [
      "Collecting openpyxl\n",
      "  Downloading openpyxl-3.0.7-py2.py3-none-any.whl (243 kB)\n",
      "\u001b[K     |████████████████████████████████| 243 kB 1.1 MB/s eta 0:00:01\n",
      "\u001b[?25hCollecting et-xmlfile\n",
      "  Downloading et_xmlfile-1.1.0-py3-none-any.whl (4.7 kB)\n",
      "Installing collected packages: et-xmlfile, openpyxl\n",
      "Successfully installed et-xmlfile-1.1.0 openpyxl-3.0.7\n"
     ]
    }
   ],
   "source": [
    "!pip install openpyxl"
   ]
  },
  {
   "cell_type": "code",
   "execution_count": 1,
   "id": "cfd42e21-48e7-4497-bf7f-5c271a69965c",
   "metadata": {},
   "outputs": [],
   "source": [
    "import pyspark\n",
    "pyspark.SparkContext.setSystemProperty('spark.executor.memory', '5g')\n",
    "sc = pyspark.SparkContext('local[*]')"
   ]
  },
  {
   "cell_type": "code",
   "execution_count": 67,
   "id": "edf831ac-4393-4ac9-80e7-f467e69d459a",
   "metadata": {},
   "outputs": [],
   "source": [
    "import openpyxl\n",
    "import pyspark.sql.functions as sqlf\n",
    "import matplotlib as mpl\n",
    "from matplotlib import pyplot as plt\n",
    "import numpy as np\n",
    "import pandas as pd\n",
    "%matplotlib inline"
   ]
  },
  {
   "cell_type": "code",
   "execution_count": 62,
   "id": "95135e43-3edb-4af1-8f1a-c1bd7d0d748f",
   "metadata": {},
   "outputs": [
    {
     "name": "stdout",
     "output_type": "stream",
     "text": [
      "Diccionario_Base_EMIGRACION.xlsx  Diccionario_Base_PERSONA.xlsx\n",
      "Diccionario_Base_HOGAR.xlsx\t  Diccionario_Base_VIVIENDA.xlsx\n"
     ]
    }
   ],
   "source": [
    "! ls \"../data/GTVitales y Censo/CENSO GT 2018.csv/Diccionario de datos\""
   ]
  },
  {
   "cell_type": "code",
   "execution_count": 4,
   "id": "02584f30-f297-4051-82ac-f0bb13a2558b",
   "metadata": {},
   "outputs": [],
   "source": [
    "spark = pyspark.sql.SparkSession \\\n",
    "    .builder \\\n",
    "    .appName(\"censo\") \\\n",
    "    .getOrCreate()"
   ]
  },
  {
   "cell_type": "code",
   "execution_count": 9,
   "id": "593733bf-8938-4cef-9284-320b1bd5b257",
   "metadata": {
    "tags": []
   },
   "outputs": [],
   "source": [
    "personas = spark.read.csv(\"../data/GTVitales y Censo/CENSO GT 2018.csv/PERSONA_BDP.csv\", header=True, nanValue=\" \", inferSchema=False)\n",
    "personas = personas.select([sqlf.col(c).cast(\"int\") for c in personas.columns])"
   ]
  },
  {
   "cell_type": "code",
   "execution_count": 103,
   "id": "ab0d54bf-8475-4913-b439-e6331f8d4fdd",
   "metadata": {},
   "outputs": [],
   "source": [
    "munis = pd.read_excel(\"../data/GTVitales y Censo/CENSO GT 2018.csv/Diccionario de datos/Diccionario_Base_PERSONA.xlsx\", 1)"
   ]
  },
  {
   "cell_type": "code",
   "execution_count": 104,
   "id": "ffd7cfbe-a5ee-4703-bdc1-195cde03f3ce",
   "metadata": {},
   "outputs": [
    {
     "data": {
      "text/html": [
       "<div>\n",
       "<style scoped>\n",
       "    .dataframe tbody tr th:only-of-type {\n",
       "        vertical-align: middle;\n",
       "    }\n",
       "\n",
       "    .dataframe tbody tr th {\n",
       "        vertical-align: top;\n",
       "    }\n",
       "\n",
       "    .dataframe thead th {\n",
       "        text-align: right;\n",
       "    }\n",
       "</style>\n",
       "<table border=\"1\" class=\"dataframe\">\n",
       "  <thead>\n",
       "    <tr style=\"text-align: right;\">\n",
       "      <th></th>\n",
       "      <th>MUNICIPIO</th>\n",
       "      <th>NOMBRE MUNICIPIO</th>\n",
       "      <th>NOMBRE DEPARTAMENTO</th>\n",
       "      <th>CÓDIGO DEPARTAMENTO</th>\n",
       "      <th>CÓDIGO MUNICIPIO</th>\n",
       "    </tr>\n",
       "  </thead>\n",
       "  <tbody>\n",
       "    <tr>\n",
       "      <th>0</th>\n",
       "      <td>101</td>\n",
       "      <td>Guatemala</td>\n",
       "      <td>Guatemala</td>\n",
       "      <td>1</td>\n",
       "      <td>1</td>\n",
       "    </tr>\n",
       "    <tr>\n",
       "      <th>1</th>\n",
       "      <td>102</td>\n",
       "      <td>Santa Catarina Pinula</td>\n",
       "      <td>Guatemala</td>\n",
       "      <td>1</td>\n",
       "      <td>2</td>\n",
       "    </tr>\n",
       "    <tr>\n",
       "      <th>2</th>\n",
       "      <td>103</td>\n",
       "      <td>San José Pinula</td>\n",
       "      <td>Guatemala</td>\n",
       "      <td>1</td>\n",
       "      <td>3</td>\n",
       "    </tr>\n",
       "    <tr>\n",
       "      <th>3</th>\n",
       "      <td>104</td>\n",
       "      <td>San José del Golfo</td>\n",
       "      <td>Guatemala</td>\n",
       "      <td>1</td>\n",
       "      <td>4</td>\n",
       "    </tr>\n",
       "    <tr>\n",
       "      <th>4</th>\n",
       "      <td>105</td>\n",
       "      <td>Palencia</td>\n",
       "      <td>Guatemala</td>\n",
       "      <td>1</td>\n",
       "      <td>5</td>\n",
       "    </tr>\n",
       "    <tr>\n",
       "      <th>...</th>\n",
       "      <td>...</td>\n",
       "      <td>...</td>\n",
       "      <td>...</td>\n",
       "      <td>...</td>\n",
       "      <td>...</td>\n",
       "    </tr>\n",
       "    <tr>\n",
       "      <th>335</th>\n",
       "      <td>2213</td>\n",
       "      <td>Conguaco</td>\n",
       "      <td>Jutiapa</td>\n",
       "      <td>22</td>\n",
       "      <td>13</td>\n",
       "    </tr>\n",
       "    <tr>\n",
       "      <th>336</th>\n",
       "      <td>2214</td>\n",
       "      <td>Moyuta</td>\n",
       "      <td>Jutiapa</td>\n",
       "      <td>22</td>\n",
       "      <td>14</td>\n",
       "    </tr>\n",
       "    <tr>\n",
       "      <th>337</th>\n",
       "      <td>2215</td>\n",
       "      <td>Pasaco</td>\n",
       "      <td>Jutiapa</td>\n",
       "      <td>22</td>\n",
       "      <td>15</td>\n",
       "    </tr>\n",
       "    <tr>\n",
       "      <th>338</th>\n",
       "      <td>2216</td>\n",
       "      <td>San José Acatempa</td>\n",
       "      <td>Jutiapa</td>\n",
       "      <td>22</td>\n",
       "      <td>16</td>\n",
       "    </tr>\n",
       "    <tr>\n",
       "      <th>339</th>\n",
       "      <td>2217</td>\n",
       "      <td>Quesada</td>\n",
       "      <td>Jutiapa</td>\n",
       "      <td>22</td>\n",
       "      <td>17</td>\n",
       "    </tr>\n",
       "  </tbody>\n",
       "</table>\n",
       "<p>340 rows × 5 columns</p>\n",
       "</div>"
      ],
      "text/plain": [
       "     MUNICIPIO       NOMBRE MUNICIPIO NOMBRE DEPARTAMENTO  \\\n",
       "0          101              Guatemala           Guatemala   \n",
       "1          102  Santa Catarina Pinula           Guatemala   \n",
       "2          103        San José Pinula           Guatemala   \n",
       "3          104     San José del Golfo           Guatemala   \n",
       "4          105               Palencia           Guatemala   \n",
       "..         ...                    ...                 ...   \n",
       "335       2213               Conguaco             Jutiapa   \n",
       "336       2214                 Moyuta             Jutiapa   \n",
       "337       2215                 Pasaco             Jutiapa   \n",
       "338       2216      San José Acatempa             Jutiapa   \n",
       "339       2217                Quesada             Jutiapa   \n",
       "\n",
       "     CÓDIGO DEPARTAMENTO  CÓDIGO MUNICIPIO  \n",
       "0                      1                 1  \n",
       "1                      1                 2  \n",
       "2                      1                 3  \n",
       "3                      1                 4  \n",
       "4                      1                 5  \n",
       "..                   ...               ...  \n",
       "335                   22                13  \n",
       "336                   22                14  \n",
       "337                   22                15  \n",
       "338                   22                16  \n",
       "339                   22                17  \n",
       "\n",
       "[340 rows x 5 columns]"
      ]
     },
     "execution_count": 104,
     "metadata": {},
     "output_type": "execute_result"
    }
   ],
   "source": [
    "munis"
   ]
  },
  {
   "cell_type": "code",
   "execution_count": 259,
   "id": "ab30f809-8484-4627-b53d-1b73b6767946",
   "metadata": {},
   "outputs": [],
   "source": [
    "hogares = spark.read.csv(\"../data/GTVitales y Censo/CENSO GT 2018.csv/HOGAR_BDP.csv\", header=True, nanValue=\" \", inferSchema=False)"
   ]
  },
  {
   "cell_type": "code",
   "execution_count": 260,
   "id": "5502554f-6265-47f9-87c5-93643bd29d37",
   "metadata": {},
   "outputs": [],
   "source": [
    "viviendas = spark.read.csv(\"../data/GTVitales y Censo/CENSO GT 2018.csv/VIVIENDA_BDP.csv\", header=True, nanValue=\" \", inferSchema=False)"
   ]
  },
  {
   "cell_type": "code",
   "execution_count": 261,
   "id": "548bc9bb-3008-425b-ac74-81983b43340d",
   "metadata": {},
   "outputs": [],
   "source": [
    "migra = spark.read.csv(\"../data/GTVitales y Censo/CENSO GT 2018.csv/MIGRACION_BDP.csv\", header=True, nanValue=\" \", inferSchema=False)"
   ]
  },
  {
   "cell_type": "code",
   "execution_count": 22,
   "id": "b152876d-9b3b-4e91-b6b5-8f26a965086b",
   "metadata": {},
   "outputs": [
    {
     "name": "stdout",
     "output_type": "stream",
     "text": [
      "+------------+---------+-------------+----+----+------------+---------+----+----+----+----+----+-----+-------+---------+-------+-------+-----+-------+---------+-------+-----+-----+-----+-----+-------+-------+-------+-------+-------+-------+-------+-------+-----+-----+-----+-------+----------+-------+-----+-----+-------+-------+-------+-----+-------+-------+-------+-------+-------+-------+-----+-----+-----+--------+--------+-------+--------+--------+-----+-------+----------+-------+-----+-------+-------+-------+-------+-------+-------+-----+-------+-------+-------+-----+----------+--------+-------+---+------+------+----------+---------+----+\n",
      "|DEPARTAMENTO|MUNICIPIO|COD_MUNICIPIO|ZONA|AREA|NUM_VIVIENDA|NUM_HOGAR|PCP1|PCP5|PCP6|PCP7|PCP9|PCP10|PCP10_B|LUGNACGEO|PCP10_C|PCP10_D|PCP11|PCP11_B|RESCINGEO|PCP11_C|PCP12|PCP13|PCP14|PCP15|PCP16_A|PCP16_B|PCP16_C|PCP16_D|PCP16_E|PCP16_F|PCP17_A|PCP17_B|PCP18|PCP19|PCP20|PCP20_B|ESTUDIAGEO|PCP20_C|PCP21|PCP22|PCP23_A|PCP23_B|PCP23_C|PCP24|PCP25_A|PCP25_B|PCP25_C|PCP26_A|PCP26_B|PCP26_C|PCP27|PCP28|PCP29|PCP30_2D|PCP30_1D|PCP31_D|PCP32_2D|PCP32_1D|PCP33|PCP33_B|TRABAJAGEO|PCP33_C|PCP34|PCP35_A|PCP35_B|PCP35_C|PCP36_A|PCP36_B|PCP36_C|PCP37|PCP38_A|PCP38_B|PCP38_C|PCP39|VIVEHABGEO|NIVGRADO|ANEDUCA|PEA|POCUPA|PDESOC|MIGRA_VIDA|MIGRA_REC| PEI|\n",
      "+------------+---------+-------------+----+----+------------+---------+----+----+----+----+----+-----+-------+---------+-------+-------+-----+-------+---------+-------+-----+-----+-----+-----+-------+-------+-------+-------+-------+-------+-------+-------+-----+-----+-----+-------+----------+-------+-----+-----+-------+-------+-------+-----+-------+-------+-------+-------+-------+-------+-----+-----+-----+--------+--------+-------+--------+--------+-----+-------+----------+-------+-----+-------+-------+-------+-------+-------+-------+-----+-------+-------+-------+-----+----------+--------+-------+---+------+------+----------+---------+----+\n",
      "|           1|      101|            1|   1|   1|           1|        1|   1|   1|   2|  61|   1|    1|      1|      101|   null|   null|    2|      1|      101|   null|    5| null| null|   25|      2|      1|      1|      1|      1|      1|      4|      3|    2| null| null|   null|      null|   null| null|    1|     25|     16|   null|    1|     26|   null|   null|      1|      1|      1|    1| null| null|      43|       4|      5|      56|       9|    1|      1|       101|   null|    1|      0|      0|      0|   null|   null|   null| null|   null|   null|   null| null|       101|      43|      9|  1|     1|  null|         1|        1|null|\n",
      "|           1|      101|            1|   1|   1|           1|        1|   2|   7|   1|  58|   1|    1|      1|      101|   null|   null|    2|      1|      101|   null|    5| null| null|   25|      2|      1|      2|      2|      1|      2|      4|      6|    2| null| null|   null|      null|   null| null|    1|     25|   null|   null|    2|   null|   null|   null|      1|      1|      1|    1| null| null|      72|       7|      3|      33|       3|    1|      1|       101|   null|    1|   null|   null|   null|   null|   null|   null| null|   null|   null|   null| null|       101|      46|     12|  1|     1|  null|         1|        1|null|\n",
      "+------------+---------+-------------+----+----+------------+---------+----+----+----+----+----+-----+-------+---------+-------+-------+-----+-------+---------+-------+-----+-----+-----+-----+-------+-------+-------+-------+-------+-------+-------+-------+-----+-----+-----+-------+----------+-------+-----+-----+-------+-------+-------+-----+-------+-------+-------+-------+-------+-------+-----+-----+-----+--------+--------+-------+--------+--------+-----+-------+----------+-------+-----+-------+-------+-------+-------+-------+-------+-----+-------+-------+-------+-----+----------+--------+-------+---+------+------+----------+---------+----+\n",
      "only showing top 2 rows\n",
      "\n"
     ]
    }
   ],
   "source": [
    "personas.show(2)"
   ]
  },
  {
   "cell_type": "raw",
   "id": "f398bf54-24fb-4d5c-b99c-021e4b3f736d",
   "metadata": {},
   "source": [
    "personas.persist(pyspark.StorageLevel.MEMORY_AND_DISK)"
   ]
  },
  {
   "cell_type": "code",
   "execution_count": null,
   "id": "f7e72aa0-f4de-4134-bce0-f7c0f3966264",
   "metadata": {},
   "outputs": [],
   "source": []
  },
  {
   "cell_type": "code",
   "execution_count": 6,
   "id": "611eda50-c941-473a-9032-1e4f560ce30c",
   "metadata": {},
   "outputs": [],
   "source": [
    "trckr = sc.statusTracker()"
   ]
  },
  {
   "cell_type": "raw",
   "id": "61227cb6-301a-4a66-acd6-20c7641aadf2",
   "metadata": {},
   "source": [
    "# Emergency:\n",
    "sc.cancelAllJobs()\n",
    "sc.stop()"
   ]
  },
  {
   "cell_type": "code",
   "execution_count": 26,
   "id": "d20572d0-e238-4291-a60d-a1f20bd61a8f",
   "metadata": {},
   "outputs": [
    {
     "name": "stdout",
     "output_type": "stream",
     "text": [
      "14901286\n",
      "3275931\n",
      "3943431\n",
      "242203\n",
      "CPU times: user 4.71 ms, sys: 96 µs, total: 4.8 ms\n",
      "Wall time: 6.37 s\n"
     ]
    }
   ],
   "source": [
    "%%time\n",
    "print(personas.count())\n",
    "print(hogares.count())\n",
    "print(viviendas.count())\n",
    "print(migra.count())"
   ]
  },
  {
   "cell_type": "code",
   "execution_count": 19,
   "id": "5ec043e2-fdf8-4875-820e-b7a930f9053d",
   "metadata": {},
   "outputs": [
    {
     "name": "stdout",
     "output_type": "stream",
     "text": [
      "+-------+-----------------+\n",
      "|summary|     DEPARTAMENTO|\n",
      "+-------+-----------------+\n",
      "|  count|         14901286|\n",
      "|   mean|9.923401845988327|\n",
      "| stddev| 6.51374811363422|\n",
      "|    min|                1|\n",
      "|    max|               22|\n",
      "+-------+-----------------+\n",
      "\n",
      "None\n",
      "CPU times: user 4.97 ms, sys: 494 µs, total: 5.47 ms\n",
      "Wall time: 29.1 s\n"
     ]
    }
   ],
   "source": [
    "%%time\n",
    "print(personas.describe(\"DEPARTAMENTO\").show())"
   ]
  },
  {
   "cell_type": "code",
   "execution_count": 16,
   "id": "3072c84a-e9b3-460b-b451-12288c04e7fd",
   "metadata": {},
   "outputs": [
    {
     "name": "stdout",
     "output_type": "stream",
     "text": [
      "CPU times: user 10 ms, sys: 0 ns, total: 10 ms\n",
      "Wall time: 23.1 s\n"
     ]
    },
    {
     "data": {
      "text/html": [
       "<div>\n",
       "<style scoped>\n",
       "    .dataframe tbody tr th:only-of-type {\n",
       "        vertical-align: middle;\n",
       "    }\n",
       "\n",
       "    .dataframe tbody tr th {\n",
       "        vertical-align: top;\n",
       "    }\n",
       "\n",
       "    .dataframe thead th {\n",
       "        text-align: right;\n",
       "    }\n",
       "</style>\n",
       "<table border=\"1\" class=\"dataframe\">\n",
       "  <thead>\n",
       "    <tr style=\"text-align: right;\">\n",
       "      <th></th>\n",
       "      <th>max(DEPARTAMENTO)</th>\n",
       "    </tr>\n",
       "  </thead>\n",
       "  <tbody>\n",
       "    <tr>\n",
       "      <th>0</th>\n",
       "      <td>22</td>\n",
       "    </tr>\n",
       "  </tbody>\n",
       "</table>\n",
       "</div>"
      ],
      "text/plain": [
       "   max(DEPARTAMENTO)\n",
       "0                 22"
      ]
     },
     "execution_count": 16,
     "metadata": {},
     "output_type": "execute_result"
    }
   ],
   "source": [
    "%%time\n",
    "dmax = personas.agg({\"DEPARTAMENTO\":\"max\"}).toPandas()\n",
    "dmax"
   ]
  },
  {
   "cell_type": "code",
   "execution_count": 17,
   "id": "9facf10f-66af-463b-8bf9-7e4c60b50dff",
   "metadata": {},
   "outputs": [
    {
     "name": "stdout",
     "output_type": "stream",
     "text": [
      "CPU times: user 13.3 ms, sys: 6.43 ms, total: 19.7 ms\n",
      "Wall time: 20.6 s\n"
     ]
    }
   ],
   "source": [
    "%%time\n",
    "edades = personas.groupby([\"PCP7\", \"PCP6\"]).count()\n",
    "edadesdf = edades.toPandas()"
   ]
  },
  {
   "cell_type": "code",
   "execution_count": 18,
   "id": "94abd712-d326-4e6a-a994-07d0515709c2",
   "metadata": {},
   "outputs": [],
   "source": [
    "edadesdf = edadesdf.set_index([\"PCP7\", \"PCP6\"]) #.unstack(1)[(\"count\", 2.0)]"
   ]
  },
  {
   "cell_type": "code",
   "execution_count": 19,
   "id": "6d28142f-d747-488a-971b-d8589c2180e5",
   "metadata": {},
   "outputs": [
    {
     "name": "stderr",
     "output_type": "stream",
     "text": [
      "<ipython-input-19-a91b457e9abb>:10: DeprecationWarning: `np.int` is a deprecated alias for the builtin `int`. To silence this warning, use `int` by itself. Doing this will not modify any behavior and is safe. When replacing `np.int`, you may wish to use e.g. `np.int64` or `np.int32` to specify the precision. If you wish to review your current use, check the release note link for additional information.\n",
      "Deprecated in NumPy 1.20; for more details and guidance: https://numpy.org/devdocs/release/1.20.0-notes.html#deprecations\n",
      "  plt.xticks(xspace, [str(x) + \"K\" for x in list(np.round(np.abs(xspace)/1000).astype(np.int)) ])\n"
     ]
    },
    {
     "data": {
      "text/plain": [
       "(0.0, 104.0)"
      ]
     },
     "execution_count": 19,
     "metadata": {},
     "output_type": "execute_result"
    },
    {
     "data": {
      "image/png": "[encoded data removed]",
      "text/plain": [
       "<Figure size 432x432 with 1 Axes>"
      ]
     },
     "metadata": {},
     "output_type": "display_data"
    }
   ],
   "source": [
    "plt.rcParams[\"figure.figsize\"] = (6,6)\n",
    "plt.rcParams['axes.axisbelow'] = True\n",
    "plt.rcParams[\"figure.facecolor\"] = \"white\"\n",
    "plt.grid(True)\n",
    "temp = edadesdf.unstack(1)[(\"count\", 1.0)]\n",
    "plt.barh(range(0,len(temp)), temp, 1, zorder=1, label=\"Hombres\", alpha=0.75)\n",
    "temp = edadesdf.unstack(1)[(\"count\", 2.0)]*-1\n",
    "plt.barh(range(0,len(temp)), temp, 1, zorder=1, label=\"Mujeres\", alpha=0.75)\n",
    "xspace = np.linspace(-200000, 200000, 11, endpoint=True)\n",
    "plt.xticks(xspace, [str(x) + \"K\" for x in list(np.round(np.abs(xspace)/1000).astype(np.int)) ])\n",
    "plt.title(\"Estructura de edad\\nCenso GT 2018\")\n",
    "plt.xlabel(\"Miles de habitantes\")\n",
    "plt.legend()\n",
    "plt.ylabel(\"Edad\")\n",
    "plt.ylim(0,104)"
   ]
  },
  {
   "cell_type": "code",
   "execution_count": 257,
   "id": "b170c2f6-78b7-4337-bde3-3a3ff6307218",
   "metadata": {},
   "outputs": [
    {
     "data": {
      "text/html": [
       "<div>\n",
       "<style scoped>\n",
       "    .dataframe tbody tr th:only-of-type {\n",
       "        vertical-align: middle;\n",
       "    }\n",
       "\n",
       "    .dataframe tbody tr th {\n",
       "        vertical-align: top;\n",
       "    }\n",
       "\n",
       "    .dataframe thead th {\n",
       "        text-align: right;\n",
       "    }\n",
       "</style>\n",
       "<table border=\"1\" class=\"dataframe\">\n",
       "  <thead>\n",
       "    <tr style=\"text-align: right;\">\n",
       "      <th></th>\n",
       "      <th>max(NUM_VIVIENDA)</th>\n",
       "    </tr>\n",
       "  </thead>\n",
       "  <tbody>\n",
       "    <tr>\n",
       "      <th>0</th>\n",
       "      <td>7001388</td>\n",
       "    </tr>\n",
       "  </tbody>\n",
       "</table>\n",
       "</div>"
      ],
      "text/plain": [
       "   max(NUM_VIVIENDA)\n",
       "0            7001388"
      ]
     },
     "execution_count": 257,
     "metadata": {},
     "output_type": "execute_result"
    }
   ],
   "source": [
    "personas.select(\"NUM_VIVIENDA\").groupby().max().toPandas()"
   ]
  },
  {
   "cell_type": "code",
   "execution_count": 235,
   "id": "837259ea-bad1-4e5d-81ca-21f8a9629a35",
   "metadata": {},
   "outputs": [
    {
     "name": "stdout",
     "output_type": "stream",
     "text": [
      "CPU times: user 31.7 ms, sys: 17.6 ms, total: 49.4 ms\n",
      "Wall time: 26.4 s\n"
     ]
    }
   ],
   "source": [
    "%%time \n",
    "temp = personas.select(\n",
    "    sqlf.when((personas.PCP7 >= 0) & (personas.PCP7 <=4), 1).otherwise(0).alias(\"edad0_4\"),\n",
    "    sqlf.when((personas.PCP7 >= 5) & (personas.PCP7 <=9), 1).otherwise(0).alias(\"edad5_9\"),\n",
    "    sqlf.when((personas.PCP7 >= 10) & (personas.PCP7 <=14), 1).otherwise(0).alias(\"edad10_14\"),\n",
    "    sqlf.when((personas.PCP7 >= 15) & (personas.PCP7 <=17), 1).otherwise(0).alias(\"edad15_17\"),\n",
    "    sqlf.when((personas.PCP7 >= 18), 1).otherwise(0).alias(\"adultos\"),\n",
    "    sqlf.when((personas.PCP7 >= 15) & (personas.PCP7 <=49) & (personas.PCP6==2), 1).otherwise(0).alias(\"mujeresERCH\"), # Mujeres en edad reproductiva con hijos\n",
    "    sqlf.when((personas.PCP7 >= 15) & (personas.PCP7 <=49) & (personas.PCP6==1), 1).otherwise(0).alias(\"hombresERCH\"), # Hombres en edad reproductiva con hijos\n",
    "    personas.NUM_HOGAR,\n",
    "    personas.NUM_VIVIENDA,\n",
    "    personas.MUNICIPIO\n",
    ").groupby([\"NUM_HOGAR\", \"NUM_VIVIENDA\", \"MUNICIPIO\"]).sum()\n",
    "\n",
    "temp1 = temp.select(\n",
    "    sqlf.when(sqlf.col(\"sum(mujeresERCH)\") > 0, (sqlf.col(\"sum(edad0_4)\")/sqlf.col(\"sum(mujeresERCH)\")) ).alias(\"e04_mujeres\"),\n",
    "    sqlf.when(sqlf.col(\"sum(mujeresERCH)\") > 0, (sqlf.col(\"sum(edad5_9)\")/sqlf.col(\"sum(mujeresERCH)\")) ).alias(\"e59_mujeres\"),\n",
    "    sqlf.when(sqlf.col(\"sum(mujeresERCH)\") > 0, (sqlf.col(\"sum(edad10_14)\")/sqlf.col(\"sum(mujeresERCH)\")) ).alias(\"e1014_mujeres\"),\n",
    "    sqlf.when(sqlf.col(\"sum(mujeresERCH)\") > 0, (sqlf.col(\"sum(edad15_17)\")/sqlf.col(\"sum(mujeresERCH)\")) ).alias(\"e1517_mujeres\"),\n",
    "    sqlf.when(sqlf.col(\"sum(mujeresERCH)\") > 0, (sqlf.col(\"sum(adultos)\")/sqlf.col(\"sum(mujeresERCH)\")) ).alias(\"a_mujeres\"),\n",
    "    sqlf.when(sqlf.col(\"sum(hombresERCH)\") > 0, (sqlf.col(\"sum(edad0_4)\")/sqlf.col(\"sum(hombresERCH)\")) ).alias(\"e04_h\"),\n",
    "    sqlf.when(sqlf.col(\"sum(hombresERCH)\") > 0, (sqlf.col(\"sum(edad5_9)\")/sqlf.col(\"sum(hombresERCH)\")) ).alias(\"e59_h\"),\n",
    "    sqlf.when(sqlf.col(\"sum(hombresERCH)\") > 0, (sqlf.col(\"sum(edad10_14)\")/sqlf.col(\"sum(hombresERCH)\")) ).alias(\"e1014_h\"),\n",
    "    sqlf.when(sqlf.col(\"sum(hombresERCH)\") > 0, (sqlf.col(\"sum(edad15_17)\")/sqlf.col(\"sum(hombresERCH)\")) ).alias(\"e1517_h\"),\n",
    "    sqlf.when(sqlf.col(\"sum(hombresERCH)\") > 0, (sqlf.col(\"sum(adultos)\")/sqlf.col(\"sum(hombresERCH)\")) ).alias(\"a_h\"),\n",
    "    sqlf.col(\"MUNICIPIO\")\n",
    ")\\\n",
    " .groupby(\"MUNICIPIO\").avg().toPandas()"
   ]
  },
  {
   "cell_type": "raw",
   "id": "bba0a0fd-fac0-4d81-b9aa-bfb04870bc78",
   "metadata": {},
   "source": [
    "munis[munis[\"NOMBRE DEPARTAMENTO\"].map(lambda x: \"Huehue\" in x)]"
   ]
  },
  {
   "cell_type": "code",
   "execution_count": 240,
   "id": "debe839b-ff23-4d09-8f05-c44e5dfd4b39",
   "metadata": {},
   "outputs": [],
   "source": [
    "quichemunis = [1413,1411,1405,1410,1415]\n",
    "#\"Nebaj\tCotzal\tChajul\tCunén\tUspantán\"\n",
    "huehuemunis = [1326, 1318, 1317, 1308, 1315, 1302, 1304, 1307, 1312, 1311]\n",
    "#\"Santa Cruz Barillas\tSan Mateo Ixtatán\tSanta Eulalia\tSan Pedro Solomá\tTodos Santos Cuchumatán\tChiantla\tCuilco\tJacaltenango\tLa Democracia\tLa Libertad\""
   ]
  },
  {
   "cell_type": "code",
   "execution_count": 242,
   "id": "639434b6-b71b-4b59-b658-e55c2a05ed83",
   "metadata": {},
   "outputs": [
    {
     "data": {
      "text/html": [
       "<div>\n",
       "<style scoped>\n",
       "    .dataframe tbody tr th:only-of-type {\n",
       "        vertical-align: middle;\n",
       "    }\n",
       "\n",
       "    .dataframe tbody tr th {\n",
       "        vertical-align: top;\n",
       "    }\n",
       "\n",
       "    .dataframe thead th {\n",
       "        text-align: right;\n",
       "    }\n",
       "</style>\n",
       "<table border=\"1\" class=\"dataframe\">\n",
       "  <thead>\n",
       "    <tr style=\"text-align: right;\">\n",
       "      <th></th>\n",
       "      <th>avg(e04_mujeres)</th>\n",
       "      <th>avg(e59_mujeres)</th>\n",
       "      <th>avg(e1014_mujeres)</th>\n",
       "      <th>avg(e1517_mujeres)</th>\n",
       "      <th>avg(a_mujeres)</th>\n",
       "      <th>avg(e04_h)</th>\n",
       "      <th>avg(e59_h)</th>\n",
       "      <th>avg(e1014_h)</th>\n",
       "      <th>avg(e1517_h)</th>\n",
       "      <th>avg(a_h)</th>\n",
       "      <th>avg(MUNICIPIO)</th>\n",
       "    </tr>\n",
       "    <tr>\n",
       "      <th>MUNICIPIO</th>\n",
       "      <th></th>\n",
       "      <th></th>\n",
       "      <th></th>\n",
       "      <th></th>\n",
       "      <th></th>\n",
       "      <th></th>\n",
       "      <th></th>\n",
       "      <th></th>\n",
       "      <th></th>\n",
       "      <th></th>\n",
       "      <th></th>\n",
       "    </tr>\n",
       "  </thead>\n",
       "  <tbody>\n",
       "    <tr>\n",
       "      <th>1326</th>\n",
       "      <td>0.739739</td>\n",
       "      <td>0.678438</td>\n",
       "      <td>0.539751</td>\n",
       "      <td>0.268217</td>\n",
       "      <td>2.062841</td>\n",
       "      <td>0.770976</td>\n",
       "      <td>0.680157</td>\n",
       "      <td>0.528937</td>\n",
       "      <td>0.289225</td>\n",
       "      <td>2.158568</td>\n",
       "      <td>1326.0</td>\n",
       "    </tr>\n",
       "    <tr>\n",
       "      <th>1318</th>\n",
       "      <td>0.734144</td>\n",
       "      <td>0.706847</td>\n",
       "      <td>0.580830</td>\n",
       "      <td>0.286485</td>\n",
       "      <td>1.980100</td>\n",
       "      <td>0.829276</td>\n",
       "      <td>0.760193</td>\n",
       "      <td>0.613377</td>\n",
       "      <td>0.343384</td>\n",
       "      <td>2.238470</td>\n",
       "      <td>1318.0</td>\n",
       "    </tr>\n",
       "    <tr>\n",
       "      <th>1317</th>\n",
       "      <td>0.741391</td>\n",
       "      <td>0.721876</td>\n",
       "      <td>0.584121</td>\n",
       "      <td>0.274542</td>\n",
       "      <td>2.004810</td>\n",
       "      <td>0.812992</td>\n",
       "      <td>0.744337</td>\n",
       "      <td>0.595126</td>\n",
       "      <td>0.322760</td>\n",
       "      <td>2.251274</td>\n",
       "      <td>1317.0</td>\n",
       "    </tr>\n",
       "    <tr>\n",
       "      <th>1308</th>\n",
       "      <td>0.719875</td>\n",
       "      <td>0.643808</td>\n",
       "      <td>0.521143</td>\n",
       "      <td>0.220844</td>\n",
       "      <td>1.928065</td>\n",
       "      <td>0.814408</td>\n",
       "      <td>0.688448</td>\n",
       "      <td>0.576766</td>\n",
       "      <td>0.285508</td>\n",
       "      <td>2.348410</td>\n",
       "      <td>1308.0</td>\n",
       "    </tr>\n",
       "    <tr>\n",
       "      <th>1315</th>\n",
       "      <td>0.587983</td>\n",
       "      <td>0.561057</td>\n",
       "      <td>0.484292</td>\n",
       "      <td>0.231160</td>\n",
       "      <td>2.021463</td>\n",
       "      <td>0.679858</td>\n",
       "      <td>0.588255</td>\n",
       "      <td>0.514710</td>\n",
       "      <td>0.288239</td>\n",
       "      <td>2.343773</td>\n",
       "      <td>1315.0</td>\n",
       "    </tr>\n",
       "    <tr>\n",
       "      <th>1302</th>\n",
       "      <td>0.584426</td>\n",
       "      <td>0.570279</td>\n",
       "      <td>0.491307</td>\n",
       "      <td>0.233976</td>\n",
       "      <td>2.039345</td>\n",
       "      <td>0.622847</td>\n",
       "      <td>0.584161</td>\n",
       "      <td>0.502647</td>\n",
       "      <td>0.262345</td>\n",
       "      <td>2.231543</td>\n",
       "      <td>1302.0</td>\n",
       "    </tr>\n",
       "    <tr>\n",
       "      <th>1304</th>\n",
       "      <td>0.655401</td>\n",
       "      <td>0.659965</td>\n",
       "      <td>0.524727</td>\n",
       "      <td>0.229248</td>\n",
       "      <td>2.056678</td>\n",
       "      <td>0.710632</td>\n",
       "      <td>0.669803</td>\n",
       "      <td>0.544615</td>\n",
       "      <td>0.272267</td>\n",
       "      <td>2.326840</td>\n",
       "      <td>1304.0</td>\n",
       "    </tr>\n",
       "    <tr>\n",
       "      <th>1307</th>\n",
       "      <td>0.458280</td>\n",
       "      <td>0.422995</td>\n",
       "      <td>0.355366</td>\n",
       "      <td>0.184299</td>\n",
       "      <td>2.013041</td>\n",
       "      <td>0.476311</td>\n",
       "      <td>0.407355</td>\n",
       "      <td>0.344270</td>\n",
       "      <td>0.210045</td>\n",
       "      <td>2.231988</td>\n",
       "      <td>1307.0</td>\n",
       "    </tr>\n",
       "    <tr>\n",
       "      <th>1312</th>\n",
       "      <td>0.560002</td>\n",
       "      <td>0.572246</td>\n",
       "      <td>0.462202</td>\n",
       "      <td>0.214731</td>\n",
       "      <td>2.053705</td>\n",
       "      <td>0.597771</td>\n",
       "      <td>0.576955</td>\n",
       "      <td>0.459425</td>\n",
       "      <td>0.235957</td>\n",
       "      <td>2.223154</td>\n",
       "      <td>1312.0</td>\n",
       "    </tr>\n",
       "    <tr>\n",
       "      <th>1311</th>\n",
       "      <td>0.599381</td>\n",
       "      <td>0.614768</td>\n",
       "      <td>0.496295</td>\n",
       "      <td>0.230347</td>\n",
       "      <td>2.064165</td>\n",
       "      <td>0.641210</td>\n",
       "      <td>0.618393</td>\n",
       "      <td>0.498656</td>\n",
       "      <td>0.258821</td>\n",
       "      <td>2.281879</td>\n",
       "      <td>1311.0</td>\n",
       "    </tr>\n",
       "  </tbody>\n",
       "</table>\n",
       "</div>"
      ],
      "text/plain": [
       "           avg(e04_mujeres)  avg(e59_mujeres)  avg(e1014_mujeres)  \\\n",
       "MUNICIPIO                                                           \n",
       "1326               0.739739          0.678438            0.539751   \n",
       "1318               0.734144          0.706847            0.580830   \n",
       "1317               0.741391          0.721876            0.584121   \n",
       "1308               0.719875          0.643808            0.521143   \n",
       "1315               0.587983          0.561057            0.484292   \n",
       "1302               0.584426          0.570279            0.491307   \n",
       "1304               0.655401          0.659965            0.524727   \n",
       "1307               0.458280          0.422995            0.355366   \n",
       "1312               0.560002          0.572246            0.462202   \n",
       "1311               0.599381          0.614768            0.496295   \n",
       "\n",
       "           avg(e1517_mujeres)  avg(a_mujeres)  avg(e04_h)  avg(e59_h)  \\\n",
       "MUNICIPIO                                                               \n",
       "1326                 0.268217        2.062841    0.770976    0.680157   \n",
       "1318                 0.286485        1.980100    0.829276    0.760193   \n",
       "1317                 0.274542        2.004810    0.812992    0.744337   \n",
       "1308                 0.220844        1.928065    0.814408    0.688448   \n",
       "1315                 0.231160        2.021463    0.679858    0.588255   \n",
       "1302                 0.233976        2.039345    0.622847    0.584161   \n",
       "1304                 0.229248        2.056678    0.710632    0.669803   \n",
       "1307                 0.184299        2.013041    0.476311    0.407355   \n",
       "1312                 0.214731        2.053705    0.597771    0.576955   \n",
       "1311                 0.230347        2.064165    0.641210    0.618393   \n",
       "\n",
       "           avg(e1014_h)  avg(e1517_h)  avg(a_h)  avg(MUNICIPIO)  \n",
       "MUNICIPIO                                                        \n",
       "1326           0.528937      0.289225  2.158568          1326.0  \n",
       "1318           0.613377      0.343384  2.238470          1318.0  \n",
       "1317           0.595126      0.322760  2.251274          1317.0  \n",
       "1308           0.576766      0.285508  2.348410          1308.0  \n",
       "1315           0.514710      0.288239  2.343773          1315.0  \n",
       "1302           0.502647      0.262345  2.231543          1302.0  \n",
       "1304           0.544615      0.272267  2.326840          1304.0  \n",
       "1307           0.344270      0.210045  2.231988          1307.0  \n",
       "1312           0.459425      0.235957  2.223154          1312.0  \n",
       "1311           0.498656      0.258821  2.281879          1311.0  "
      ]
     },
     "execution_count": 242,
     "metadata": {},
     "output_type": "execute_result"
    }
   ],
   "source": [
    "temp1.set_index(\"MUNICIPIO\").loc[huehuemunis]"
   ]
  },
  {
   "cell_type": "code",
   "execution_count": 152,
   "id": "fa2eca78-0fe9-454c-8d5e-44ef341b7e53",
   "metadata": {},
   "outputs": [
    {
     "data": {
      "text/html": [
       "<div>\n",
       "<style scoped>\n",
       "    .dataframe tbody tr th:only-of-type {\n",
       "        vertical-align: middle;\n",
       "    }\n",
       "\n",
       "    .dataframe tbody tr th {\n",
       "        vertical-align: top;\n",
       "    }\n",
       "\n",
       "    .dataframe thead th {\n",
       "        text-align: right;\n",
       "    }\n",
       "</style>\n",
       "<table border=\"1\" class=\"dataframe\">\n",
       "  <thead>\n",
       "    <tr style=\"text-align: right;\">\n",
       "      <th></th>\n",
       "      <th>avg(e04_mujeres)</th>\n",
       "      <th>avg(e59_mujeres)</th>\n",
       "      <th>avg(e1014_mujeres)</th>\n",
       "      <th>avg(e1517_mujeres)</th>\n",
       "      <th>avg(a_mujeres)</th>\n",
       "      <th>avg(e04_h)</th>\n",
       "      <th>avg(e59_h)</th>\n",
       "      <th>avg(e1014_h)</th>\n",
       "      <th>avg(e1517_h)</th>\n",
       "      <th>avg(a_h)</th>\n",
       "      <th>avg(MUNICIPIO)</th>\n",
       "    </tr>\n",
       "    <tr>\n",
       "      <th>MUNICIPIO</th>\n",
       "      <th></th>\n",
       "      <th></th>\n",
       "      <th></th>\n",
       "      <th></th>\n",
       "      <th></th>\n",
       "      <th></th>\n",
       "      <th></th>\n",
       "      <th></th>\n",
       "      <th></th>\n",
       "      <th></th>\n",
       "      <th></th>\n",
       "    </tr>\n",
       "  </thead>\n",
       "  <tbody>\n",
       "    <tr>\n",
       "      <th>1413</th>\n",
       "      <td>1.240126</td>\n",
       "      <td>0.663691</td>\n",
       "      <td>0.551333</td>\n",
       "      <td>0.321421</td>\n",
       "      <td>2.659491</td>\n",
       "      <td>1.235457</td>\n",
       "      <td>0.655425</td>\n",
       "      <td>0.533414</td>\n",
       "      <td>0.325593</td>\n",
       "      <td>2.674541</td>\n",
       "      <td>1413.0</td>\n",
       "    </tr>\n",
       "    <tr>\n",
       "      <th>1411</th>\n",
       "      <td>1.340218</td>\n",
       "      <td>0.948939</td>\n",
       "      <td>0.718015</td>\n",
       "      <td>0.356378</td>\n",
       "      <td>2.628514</td>\n",
       "      <td>1.349073</td>\n",
       "      <td>0.944428</td>\n",
       "      <td>0.718617</td>\n",
       "      <td>0.355398</td>\n",
       "      <td>2.661839</td>\n",
       "      <td>1411.0</td>\n",
       "    </tr>\n",
       "    <tr>\n",
       "      <th>1405</th>\n",
       "      <td>1.296812</td>\n",
       "      <td>0.777101</td>\n",
       "      <td>0.626616</td>\n",
       "      <td>0.373781</td>\n",
       "      <td>2.769206</td>\n",
       "      <td>1.286207</td>\n",
       "      <td>0.785847</td>\n",
       "      <td>0.628270</td>\n",
       "      <td>0.347972</td>\n",
       "      <td>2.724832</td>\n",
       "      <td>1405.0</td>\n",
       "    </tr>\n",
       "    <tr>\n",
       "      <th>1410</th>\n",
       "      <td>1.410869</td>\n",
       "      <td>0.962760</td>\n",
       "      <td>0.761451</td>\n",
       "      <td>0.414570</td>\n",
       "      <td>2.840125</td>\n",
       "      <td>1.428681</td>\n",
       "      <td>0.983759</td>\n",
       "      <td>0.741967</td>\n",
       "      <td>0.397702</td>\n",
       "      <td>2.833263</td>\n",
       "      <td>1410.0</td>\n",
       "    </tr>\n",
       "    <tr>\n",
       "      <th>1415</th>\n",
       "      <td>1.342624</td>\n",
       "      <td>0.900043</td>\n",
       "      <td>0.659018</td>\n",
       "      <td>0.347743</td>\n",
       "      <td>2.483784</td>\n",
       "      <td>1.330657</td>\n",
       "      <td>0.894537</td>\n",
       "      <td>0.643504</td>\n",
       "      <td>0.329350</td>\n",
       "      <td>2.478440</td>\n",
       "      <td>1415.0</td>\n",
       "    </tr>\n",
       "  </tbody>\n",
       "</table>\n",
       "</div>"
      ],
      "text/plain": [
       "           avg(e04_mujeres)  avg(e59_mujeres)  avg(e1014_mujeres)  \\\n",
       "MUNICIPIO                                                           \n",
       "1413               1.240126          0.663691            0.551333   \n",
       "1411               1.340218          0.948939            0.718015   \n",
       "1405               1.296812          0.777101            0.626616   \n",
       "1410               1.410869          0.962760            0.761451   \n",
       "1415               1.342624          0.900043            0.659018   \n",
       "\n",
       "           avg(e1517_mujeres)  avg(a_mujeres)  avg(e04_h)  avg(e59_h)  \\\n",
       "MUNICIPIO                                                               \n",
       "1413                 0.321421        2.659491    1.235457    0.655425   \n",
       "1411                 0.356378        2.628514    1.349073    0.944428   \n",
       "1405                 0.373781        2.769206    1.286207    0.785847   \n",
       "1410                 0.414570        2.840125    1.428681    0.983759   \n",
       "1415                 0.347743        2.483784    1.330657    0.894537   \n",
       "\n",
       "           avg(e1014_h)  avg(e1517_h)  avg(a_h)  avg(MUNICIPIO)  \n",
       "MUNICIPIO                                                        \n",
       "1413           0.533414      0.325593  2.674541          1413.0  \n",
       "1411           0.718617      0.355398  2.661839          1411.0  \n",
       "1405           0.628270      0.347972  2.724832          1405.0  \n",
       "1410           0.741967      0.397702  2.833263          1410.0  \n",
       "1415           0.643504      0.329350  2.478440          1415.0  "
      ]
     },
     "execution_count": 152,
     "metadata": {},
     "output_type": "execute_result"
    }
   ],
   "source": [
    "temp1.set_index(\"MUNICIPIO\").loc[quichemunis]"
   ]
  },
  {
   "cell_type": "code",
   "execution_count": 159,
   "id": "8f7311bd-7c2c-4c2b-98af-a7bf30cbab02",
   "metadata": {},
   "outputs": [
    {
     "name": "stdout",
     "output_type": "stream",
     "text": [
      "CPU times: user 17.3 ms, sys: 9.67 ms, total: 27 ms\n",
      "Wall time: 18.1 s\n"
     ]
    }
   ],
   "source": [
    "%%time\n",
    "\n",
    "jefas = personas.select(\n",
    "    sqlf.when((sqlf.col(\"PCP5\")==1) & (sqlf.col(\"PCP6\") == 2), 1).otherwise(0).alias(\"jefas\"), # Jefas de hogar\n",
    "    sqlf.when((sqlf.col(\"PCP6\") == 2), 1).otherwise(0).alias(\"mujeres\"), # Mujeres\n",
    "    \"PCP12\",\n",
    "    \"MUNICIPIO\"\n",
    ").groupby([\"PCP12\", \"MUNICIPIO\"]).sum().toPandas()"
   ]
  },
  {
   "cell_type": "code",
   "execution_count": 160,
   "id": "a34a9f01-191b-4a7d-8fc7-1ae61fef79e2",
   "metadata": {},
   "outputs": [],
   "source": [
    "jefas = jefas.drop([\"sum(PCP12)\", \"sum(MUNICIPIO)\"], axis=1)"
   ]
  },
  {
   "cell_type": "code",
   "execution_count": 174,
   "id": "9222d47c-e18f-4f49-9970-56efd0b9c6a9",
   "metadata": {},
   "outputs": [],
   "source": [
    "jefasB = jefas.set_index([\"PCP12\", \"MUNICIPIO\"]).assign(divjefas = lambda df: df[\"sum(jefas)\"].divide(df[\"sum(mujeres)\"], axis=\"rows\") )"
   ]
  },
  {
   "cell_type": "code",
   "execution_count": 200,
   "id": "c18a1006-1275-439b-ab11-304d29e68770",
   "metadata": {},
   "outputs": [
    {
     "data": {
      "text/html": [
       "<div>\n",
       "<style scoped>\n",
       "    .dataframe tbody tr th:only-of-type {\n",
       "        vertical-align: middle;\n",
       "    }\n",
       "\n",
       "    .dataframe tbody tr th {\n",
       "        vertical-align: top;\n",
       "    }\n",
       "\n",
       "    .dataframe thead th {\n",
       "        text-align: right;\n",
       "    }\n",
       "</style>\n",
       "<table border=\"1\" class=\"dataframe\">\n",
       "  <thead>\n",
       "    <tr style=\"text-align: right;\">\n",
       "      <th>PCP12</th>\n",
       "      <th>1</th>\n",
       "      <th>5</th>\n",
       "    </tr>\n",
       "    <tr>\n",
       "      <th>MUNICIPIO</th>\n",
       "      <th></th>\n",
       "      <th></th>\n",
       "    </tr>\n",
       "  </thead>\n",
       "  <tbody>\n",
       "    <tr>\n",
       "      <th>1326</th>\n",
       "      <td>0.063893</td>\n",
       "      <td>0.082890</td>\n",
       "    </tr>\n",
       "    <tr>\n",
       "      <th>1318</th>\n",
       "      <td>0.054473</td>\n",
       "      <td>0.058696</td>\n",
       "    </tr>\n",
       "    <tr>\n",
       "      <th>1317</th>\n",
       "      <td>0.083207</td>\n",
       "      <td>0.150943</td>\n",
       "    </tr>\n",
       "    <tr>\n",
       "      <th>1308</th>\n",
       "      <td>0.106531</td>\n",
       "      <td>0.092000</td>\n",
       "    </tr>\n",
       "    <tr>\n",
       "      <th>1315</th>\n",
       "      <td>0.088794</td>\n",
       "      <td>0.074236</td>\n",
       "    </tr>\n",
       "    <tr>\n",
       "      <th>1302</th>\n",
       "      <td>0.053634</td>\n",
       "      <td>0.063711</td>\n",
       "    </tr>\n",
       "    <tr>\n",
       "      <th>1304</th>\n",
       "      <td>0.102620</td>\n",
       "      <td>0.078161</td>\n",
       "    </tr>\n",
       "    <tr>\n",
       "      <th>1307</th>\n",
       "      <td>0.134961</td>\n",
       "      <td>0.082888</td>\n",
       "    </tr>\n",
       "    <tr>\n",
       "      <th>1312</th>\n",
       "      <td>0.074924</td>\n",
       "      <td>0.094295</td>\n",
       "    </tr>\n",
       "    <tr>\n",
       "      <th>1311</th>\n",
       "      <td>0.057898</td>\n",
       "      <td>0.076655</td>\n",
       "    </tr>\n",
       "  </tbody>\n",
       "</table>\n",
       "</div>"
      ],
      "text/plain": [
       "PCP12             1         5\n",
       "MUNICIPIO                    \n",
       "1326       0.063893  0.082890\n",
       "1318       0.054473  0.058696\n",
       "1317       0.083207  0.150943\n",
       "1308       0.106531  0.092000\n",
       "1315       0.088794  0.074236\n",
       "1302       0.053634  0.063711\n",
       "1304       0.102620  0.078161\n",
       "1307       0.134961  0.082888\n",
       "1312       0.074924  0.094295\n",
       "1311       0.057898  0.076655"
      ]
     },
     "execution_count": 200,
     "metadata": {},
     "output_type": "execute_result"
    }
   ],
   "source": [
    "jefasB[\"divjefas\"].unstack(0)[[1,5]].loc[huehuemunis] #.sort_values(\"divjefas\")"
   ]
  },
  {
   "cell_type": "code",
   "execution_count": 204,
   "id": "d95c46dd-24c3-4dc7-9994-52a36e9314f5",
   "metadata": {},
   "outputs": [
    {
     "name": "stdout",
     "output_type": "stream",
     "text": [
      "+----+----+-------+\n",
      "|PCP6|PCP7|PCP35_A|\n",
      "+----+----+-------+\n",
      "|   2|  61|      0|\n",
      "|   1|  58|   null|\n",
      "|   1|  52|   null|\n",
      "|   2|  39|      2|\n",
      "|   1|  25|   null|\n",
      "|   1|  19|   null|\n",
      "|   1|  17|   null|\n",
      "|   2|  15|     99|\n",
      "|   2|  14|      0|\n",
      "|   1|  10|   null|\n",
      "+----+----+-------+\n",
      "only showing top 10 rows\n",
      "\n"
     ]
    }
   ],
   "source": [
    "personas.select(\"PCP6\", \"PCP7\", \"PCP35_A\").show(10)"
   ]
  },
  {
   "cell_type": "code",
   "execution_count": 243,
   "id": "db594391-87f4-404e-a4c1-634179d72d73",
   "metadata": {},
   "outputs": [
    {
     "name": "stdout",
     "output_type": "stream",
     "text": [
      "CPU times: user 22.9 ms, sys: 0 ns, total: 22.9 ms\n",
      "Wall time: 19.9 s\n"
     ]
    }
   ],
   "source": [
    "%%time\n",
    "\n",
    "hijos = personas.select(\n",
    "    \"PCP7\", \"PCP12\", \"MUNICIPIO\", \"PCP35_A\", \"PCP6\"\n",
    ").where((sqlf.col(\"PCP7\") >= 15) & (sqlf.col(\"PCP7\") <= 49) & (sqlf.col(\"PCP6\") == 2)  & (sqlf.col(\"PCP35_A\") != 99))\\\n",
    " .groupby([\"PCP12\", \"MUNICIPIO\"]).agg({\"PCP35_A\": \"avg\"}).toPandas()"
   ]
  },
  {
   "cell_type": "code",
   "execution_count": 244,
   "id": "8917edac-0851-4f44-b202-1e3059ce9887",
   "metadata": {},
   "outputs": [
    {
     "data": {
      "text/html": [
       "<div>\n",
       "<style scoped>\n",
       "    .dataframe tbody tr th:only-of-type {\n",
       "        vertical-align: middle;\n",
       "    }\n",
       "\n",
       "    .dataframe tbody tr th {\n",
       "        vertical-align: top;\n",
       "    }\n",
       "\n",
       "    .dataframe thead th {\n",
       "        text-align: right;\n",
       "    }\n",
       "</style>\n",
       "<table border=\"1\" class=\"dataframe\">\n",
       "  <thead>\n",
       "    <tr style=\"text-align: right;\">\n",
       "      <th>PCP12</th>\n",
       "      <th>1</th>\n",
       "      <th>5</th>\n",
       "    </tr>\n",
       "    <tr>\n",
       "      <th>MUNICIPIO</th>\n",
       "      <th></th>\n",
       "      <th></th>\n",
       "    </tr>\n",
       "  </thead>\n",
       "  <tbody>\n",
       "    <tr>\n",
       "      <th>1326</th>\n",
       "      <td>2.668709</td>\n",
       "      <td>2.073327</td>\n",
       "    </tr>\n",
       "    <tr>\n",
       "      <th>1318</th>\n",
       "      <td>2.858487</td>\n",
       "      <td>2.654028</td>\n",
       "    </tr>\n",
       "    <tr>\n",
       "      <th>1317</th>\n",
       "      <td>2.717284</td>\n",
       "      <td>1.833333</td>\n",
       "    </tr>\n",
       "    <tr>\n",
       "      <th>1308</th>\n",
       "      <td>2.440051</td>\n",
       "      <td>2.117257</td>\n",
       "    </tr>\n",
       "    <tr>\n",
       "      <th>1315</th>\n",
       "      <td>2.331945</td>\n",
       "      <td>2.149400</td>\n",
       "    </tr>\n",
       "    <tr>\n",
       "      <th>1302</th>\n",
       "      <td>2.595132</td>\n",
       "      <td>2.200109</td>\n",
       "    </tr>\n",
       "    <tr>\n",
       "      <th>1304</th>\n",
       "      <td>2.717503</td>\n",
       "      <td>2.366153</td>\n",
       "    </tr>\n",
       "    <tr>\n",
       "      <th>1307</th>\n",
       "      <td>1.782186</td>\n",
       "      <td>1.550505</td>\n",
       "    </tr>\n",
       "    <tr>\n",
       "      <th>1312</th>\n",
       "      <td>2.452285</td>\n",
       "      <td>1.872713</td>\n",
       "    </tr>\n",
       "    <tr>\n",
       "      <th>1311</th>\n",
       "      <td>2.871975</td>\n",
       "      <td>2.241604</td>\n",
       "    </tr>\n",
       "  </tbody>\n",
       "</table>\n",
       "</div>"
      ],
      "text/plain": [
       "PCP12             1         5\n",
       "MUNICIPIO                    \n",
       "1326       2.668709  2.073327\n",
       "1318       2.858487  2.654028\n",
       "1317       2.717284  1.833333\n",
       "1308       2.440051  2.117257\n",
       "1315       2.331945  2.149400\n",
       "1302       2.595132  2.200109\n",
       "1304       2.717503  2.366153\n",
       "1307       1.782186  1.550505\n",
       "1312       2.452285  1.872713\n",
       "1311       2.871975  2.241604"
      ]
     },
     "execution_count": 244,
     "metadata": {},
     "output_type": "execute_result"
    }
   ],
   "source": [
    "hijos.set_index([\"PCP12\", \"MUNICIPIO\"])[\"avg(PCP35_A)\"]. unstack(0)[[1,5]].loc[huehuemunis]"
   ]
  },
  {
   "cell_type": "code",
   "execution_count": 249,
   "id": "f8a4b75f-755e-45e3-81bb-bc34f608f686",
   "metadata": {},
   "outputs": [
    {
     "data": {
      "text/html": [
       "<div>\n",
       "<style scoped>\n",
       "    .dataframe tbody tr th:only-of-type {\n",
       "        vertical-align: middle;\n",
       "    }\n",
       "\n",
       "    .dataframe tbody tr th {\n",
       "        vertical-align: top;\n",
       "    }\n",
       "\n",
       "    .dataframe thead th {\n",
       "        text-align: right;\n",
       "    }\n",
       "</style>\n",
       "<table border=\"1\" class=\"dataframe\">\n",
       "  <thead>\n",
       "    <tr style=\"text-align: right;\">\n",
       "      <th>MUNICIPIO</th>\n",
       "      <th>1413</th>\n",
       "      <th>1411</th>\n",
       "      <th>1405</th>\n",
       "      <th>1410</th>\n",
       "      <th>1415</th>\n",
       "    </tr>\n",
       "    <tr>\n",
       "      <th>PCP12</th>\n",
       "      <th></th>\n",
       "      <th></th>\n",
       "      <th></th>\n",
       "      <th></th>\n",
       "      <th></th>\n",
       "    </tr>\n",
       "  </thead>\n",
       "  <tbody>\n",
       "    <tr>\n",
       "      <th>1</th>\n",
       "      <td>2.087021</td>\n",
       "      <td>2.474983</td>\n",
       "      <td>2.329607</td>\n",
       "      <td>2.674824</td>\n",
       "      <td>2.631123</td>\n",
       "    </tr>\n",
       "    <tr>\n",
       "      <th>5</th>\n",
       "      <td>1.692803</td>\n",
       "      <td>1.947791</td>\n",
       "      <td>2.188248</td>\n",
       "      <td>1.880351</td>\n",
       "      <td>2.092431</td>\n",
       "    </tr>\n",
       "  </tbody>\n",
       "</table>\n",
       "</div>"
      ],
      "text/plain": [
       "MUNICIPIO      1413      1411      1405      1410      1415\n",
       "PCP12                                                      \n",
       "1          2.087021  2.474983  2.329607  2.674824  2.631123\n",
       "5          1.692803  1.947791  2.188248  1.880351  2.092431"
      ]
     },
     "execution_count": 249,
     "metadata": {},
     "output_type": "execute_result"
    }
   ],
   "source": [
    "hijos.set_index([\"PCP12\", \"MUNICIPIO\"])[\"avg(PCP35_A)\"]. unstack(0)[[1,5]].loc[quichemunis].T"
   ]
  },
  {
   "cell_type": "code",
   "execution_count": 246,
   "id": "6e7c4f95-66f7-4410-ac90-877b34dd8791",
   "metadata": {},
   "outputs": [
    {
     "name": "stdout",
     "output_type": "stream",
     "text": [
      "CPU times: user 17 ms, sys: 877 µs, total: 17.9 ms\n",
      "Wall time: 20.6 s\n"
     ]
    }
   ],
   "source": [
    "%%time\n",
    "\n",
    "hijosB = personas.select(\n",
    "    \"PCP7\",\"MUNICIPIO\", \"PCP35_A\", \"PCP6\"\n",
    ").where((sqlf.col(\"PCP7\") >= 15) & (sqlf.col(\"PCP7\") <= 49) & (sqlf.col(\"PCP6\") == 2)  & (sqlf.col(\"PCP35_A\") != 99))\\\n",
    " .groupby([\"MUNICIPIO\"]).agg({\"PCP35_A\": \"avg\"}).toPandas()"
   ]
  },
  {
   "cell_type": "code",
   "execution_count": 252,
   "id": "1b0d3f79-3dd3-46dc-8166-4f13a0478cc5",
   "metadata": {},
   "outputs": [
    {
     "data": {
      "text/html": [
       "<div>\n",
       "<style scoped>\n",
       "    .dataframe tbody tr th:only-of-type {\n",
       "        vertical-align: middle;\n",
       "    }\n",
       "\n",
       "    .dataframe tbody tr th {\n",
       "        vertical-align: top;\n",
       "    }\n",
       "\n",
       "    .dataframe thead th {\n",
       "        text-align: right;\n",
       "    }\n",
       "</style>\n",
       "<table border=\"1\" class=\"dataframe\">\n",
       "  <thead>\n",
       "    <tr style=\"text-align: right;\">\n",
       "      <th>MUNICIPIO</th>\n",
       "      <th>1326</th>\n",
       "      <th>1318</th>\n",
       "      <th>1317</th>\n",
       "      <th>1308</th>\n",
       "      <th>1315</th>\n",
       "      <th>1302</th>\n",
       "      <th>1304</th>\n",
       "      <th>1307</th>\n",
       "      <th>1312</th>\n",
       "      <th>1311</th>\n",
       "    </tr>\n",
       "  </thead>\n",
       "  <tbody>\n",
       "    <tr>\n",
       "      <th>avg(PCP35_A)</th>\n",
       "      <td>2.58154</td>\n",
       "      <td>2.853599</td>\n",
       "      <td>2.714019</td>\n",
       "      <td>2.42682</td>\n",
       "      <td>2.310286</td>\n",
       "      <td>2.236901</td>\n",
       "      <td>2.435897</td>\n",
       "      <td>1.776647</td>\n",
       "      <td>2.133319</td>\n",
       "      <td>2.32462</td>\n",
       "    </tr>\n",
       "  </tbody>\n",
       "</table>\n",
       "</div>"
      ],
      "text/plain": [
       "MUNICIPIO        1326      1318      1317     1308      1315      1302  \\\n",
       "avg(PCP35_A)  2.58154  2.853599  2.714019  2.42682  2.310286  2.236901   \n",
       "\n",
       "MUNICIPIO         1304      1307      1312     1311  \n",
       "avg(PCP35_A)  2.435897  1.776647  2.133319  2.32462  "
      ]
     },
     "execution_count": 252,
     "metadata": {},
     "output_type": "execute_result"
    }
   ],
   "source": [
    "hijosB.set_index([\"MUNICIPIO\"])[[\"avg(PCP35_A)\"]].loc[huehuemunis].T"
   ]
  },
  {
   "cell_type": "code",
   "execution_count": 253,
   "id": "401ae044-fe71-43dc-ba65-01688bdce869",
   "metadata": {},
   "outputs": [
    {
     "data": {
      "text/html": [
       "<div>\n",
       "<style scoped>\n",
       "    .dataframe tbody tr th:only-of-type {\n",
       "        vertical-align: middle;\n",
       "    }\n",
       "\n",
       "    .dataframe tbody tr th {\n",
       "        vertical-align: top;\n",
       "    }\n",
       "\n",
       "    .dataframe thead th {\n",
       "        text-align: right;\n",
       "    }\n",
       "</style>\n",
       "<table border=\"1\" class=\"dataframe\">\n",
       "  <thead>\n",
       "    <tr style=\"text-align: right;\">\n",
       "      <th>MUNICIPIO</th>\n",
       "      <th>1413</th>\n",
       "      <th>1411</th>\n",
       "      <th>1405</th>\n",
       "      <th>1410</th>\n",
       "      <th>1415</th>\n",
       "    </tr>\n",
       "  </thead>\n",
       "  <tbody>\n",
       "    <tr>\n",
       "      <th>avg(PCP35_A)</th>\n",
       "      <td>2.067379</td>\n",
       "      <td>2.456098</td>\n",
       "      <td>2.318124</td>\n",
       "      <td>2.597633</td>\n",
       "      <td>2.534813</td>\n",
       "    </tr>\n",
       "  </tbody>\n",
       "</table>\n",
       "</div>"
      ],
      "text/plain": [
       "MUNICIPIO         1413      1411      1405      1410      1415\n",
       "avg(PCP35_A)  2.067379  2.456098  2.318124  2.597633  2.534813"
      ]
     },
     "execution_count": 253,
     "metadata": {},
     "output_type": "execute_result"
    }
   ],
   "source": [
    "hijosB.set_index([\"MUNICIPIO\"])[[\"avg(PCP35_A)\"]].loc[quichemunis].T"
   ]
  },
  {
   "cell_type": "code",
   "execution_count": 266,
   "id": "36d3f702-d3eb-492b-97a6-316cbd0c62cc",
   "metadata": {},
   "outputs": [
    {
     "name": "stdout",
     "output_type": "stream",
     "text": [
      "CPU times: user 39.9 ms, sys: 675 µs, total: 40.6 ms\n",
      "Wall time: 40.1 s\n"
     ]
    }
   ],
   "source": [
    "%%time\n",
    "\n",
    "\"\"\"PCH1\n",
    "\t1\tPropia pagada totalmente\n",
    "\t2\tPropia pagándola a plazos\n",
    "\t3\tAlquilada\n",
    "\t4\tCedida o prestada\n",
    "\t5\tPropiedad comunal\n",
    "\t6\tOtra condición\n",
    "\"\"\"\n",
    "# Seleccionar sólo jefes de hogar\n",
    "tenenciav = personas.join(hogares, [\"MUNICIPIO\", \"NUM_VIVIENDA\", \"NUM_HOGAR\"], \"inner\").where(sqlf.col(\"PCP5\")==1)\\\n",
    ".groupby([\"PCP12\", \"PCH1\", \"MUNICIPIO\"]).count().toPandas()"
   ]
  },
  {
   "cell_type": "code",
   "execution_count": 276,
   "id": "357bfc3e-ead9-44a4-8413-691319a3d3f8",
   "metadata": {},
   "outputs": [
    {
     "data": {
      "text/html": [
       "<div>\n",
       "<style scoped>\n",
       "    .dataframe tbody tr th:only-of-type {\n",
       "        vertical-align: middle;\n",
       "    }\n",
       "\n",
       "    .dataframe tbody tr th {\n",
       "        vertical-align: top;\n",
       "    }\n",
       "\n",
       "    .dataframe thead th {\n",
       "        text-align: right;\n",
       "    }\n",
       "</style>\n",
       "<table border=\"1\" class=\"dataframe\">\n",
       "  <thead>\n",
       "    <tr style=\"text-align: right;\">\n",
       "      <th>MUNICIPIO</th>\n",
       "      <th>1413</th>\n",
       "      <th>1411</th>\n",
       "      <th>1405</th>\n",
       "      <th>1410</th>\n",
       "      <th>1415</th>\n",
       "    </tr>\n",
       "    <tr>\n",
       "      <th>PCH1</th>\n",
       "      <th></th>\n",
       "      <th></th>\n",
       "      <th></th>\n",
       "      <th></th>\n",
       "      <th></th>\n",
       "    </tr>\n",
       "  </thead>\n",
       "  <tbody>\n",
       "    <tr>\n",
       "      <th>1</th>\n",
       "      <td>697.0</td>\n",
       "      <td>140.0</td>\n",
       "      <td>719.0</td>\n",
       "      <td>632.0</td>\n",
       "      <td>2181.0</td>\n",
       "    </tr>\n",
       "    <tr>\n",
       "      <th>2</th>\n",
       "      <td>5.0</td>\n",
       "      <td>1.0</td>\n",
       "      <td>1.0</td>\n",
       "      <td>11.0</td>\n",
       "      <td>11.0</td>\n",
       "    </tr>\n",
       "    <tr>\n",
       "      <th>3</th>\n",
       "      <td>89.0</td>\n",
       "      <td>13.0</td>\n",
       "      <td>6.0</td>\n",
       "      <td>24.0</td>\n",
       "      <td>100.0</td>\n",
       "    </tr>\n",
       "    <tr>\n",
       "      <th>4</th>\n",
       "      <td>38.0</td>\n",
       "      <td>36.0</td>\n",
       "      <td>24.0</td>\n",
       "      <td>33.0</td>\n",
       "      <td>75.0</td>\n",
       "    </tr>\n",
       "    <tr>\n",
       "      <th>5</th>\n",
       "      <td>2.0</td>\n",
       "      <td>1.0</td>\n",
       "      <td>0.0</td>\n",
       "      <td>0.0</td>\n",
       "      <td>1.0</td>\n",
       "    </tr>\n",
       "    <tr>\n",
       "      <th>6</th>\n",
       "      <td>0.0</td>\n",
       "      <td>0.0</td>\n",
       "      <td>0.0</td>\n",
       "      <td>2.0</td>\n",
       "      <td>2.0</td>\n",
       "    </tr>\n",
       "  </tbody>\n",
       "</table>\n",
       "</div>"
      ],
      "text/plain": [
       "MUNICIPIO   1413   1411   1405   1410    1415\n",
       "PCH1                                         \n",
       "1          697.0  140.0  719.0  632.0  2181.0\n",
       "2            5.0    1.0    1.0   11.0    11.0\n",
       "3           89.0   13.0    6.0   24.0   100.0\n",
       "4           38.0   36.0   24.0   33.0    75.0\n",
       "5            2.0    1.0    0.0    0.0     1.0\n",
       "6            0.0    0.0    0.0    2.0     2.0"
      ]
     },
     "execution_count": 276,
     "metadata": {},
     "output_type": "execute_result"
    }
   ],
   "source": [
    "tenenciav[tenenciav.PCP12 == 5].set_index([\"MUNICIPIO\", \"PCH1\"])[\"count\"].unstack(1).loc[quichemunis].T.fillna(0)"
   ]
  },
  {
   "cell_type": "code",
   "execution_count": 279,
   "id": "7dd0502e-3f13-4922-a67b-efe736c33c68",
   "metadata": {},
   "outputs": [
    {
     "name": "stdout",
     "output_type": "stream",
     "text": [
      "CPU times: user 20.1 ms, sys: 278 µs, total: 20.3 ms\n",
      "Wall time: 25.3 s\n"
     ]
    }
   ],
   "source": [
    "%%time\n",
    "\n",
    "ptrabaja = personas.select(\n",
    "    \"MUNICIPIO\", \"NUM_VIVIENDA\", \"NUM_HOGAR\", \n",
    "    sqlf.when(sqlf.col(\"PCP27\") == 1, 1).otherwise(0).alias(\"trabaja\"), \n",
    "    sqlf.lit(1).alias(\"total\")\n",
    ").groupby([\"MUNICIPIO\", \"NUM_VIVIENDA\", \"NUM_HOGAR\"]).agg({\n",
    "    \"trabaja\": \"sum\", \"total\": \"sum\"\n",
    "}).withColumn(\"ptrabaja\", sqlf.col(\"sum(trabaja)\")/sqlf.col(\"sum(total)\") )\\\n",
    "  .groupby(\"MUNICIPIO\").agg({\"ptrabaja\": \"avg\"}).toPandas()"
   ]
  },
  {
   "cell_type": "code",
   "execution_count": 282,
   "id": "8e68da37-0652-4654-bcb7-7567da579fc7",
   "metadata": {},
   "outputs": [
    {
     "data": {
      "text/html": [
       "<div>\n",
       "<style scoped>\n",
       "    .dataframe tbody tr th:only-of-type {\n",
       "        vertical-align: middle;\n",
       "    }\n",
       "\n",
       "    .dataframe tbody tr th {\n",
       "        vertical-align: top;\n",
       "    }\n",
       "\n",
       "    .dataframe thead th {\n",
       "        text-align: right;\n",
       "    }\n",
       "</style>\n",
       "<table border=\"1\" class=\"dataframe\">\n",
       "  <thead>\n",
       "    <tr style=\"text-align: right;\">\n",
       "      <th>MUNICIPIO</th>\n",
       "      <th>1413</th>\n",
       "      <th>1411</th>\n",
       "      <th>1405</th>\n",
       "      <th>1410</th>\n",
       "      <th>1415</th>\n",
       "    </tr>\n",
       "  </thead>\n",
       "  <tbody>\n",
       "    <tr>\n",
       "      <th>avg(ptrabaja)</th>\n",
       "      <td>0.296986</td>\n",
       "      <td>0.266897</td>\n",
       "      <td>0.261077</td>\n",
       "      <td>0.251287</td>\n",
       "      <td>0.26046</td>\n",
       "    </tr>\n",
       "  </tbody>\n",
       "</table>\n",
       "</div>"
      ],
      "text/plain": [
       "MUNICIPIO          1413      1411      1405      1410     1415\n",
       "avg(ptrabaja)  0.296986  0.266897  0.261077  0.251287  0.26046"
      ]
     },
     "execution_count": 282,
     "metadata": {},
     "output_type": "execute_result"
    }
   ],
   "source": [
    "ptrabaja.set_index(\"MUNICIPIO\").loc[quichemunis].T"
   ]
  },
  {
   "cell_type": "code",
   "execution_count": 283,
   "id": "b6b0a444-5eff-45f5-9b2b-532ab09f3f09",
   "metadata": {},
   "outputs": [
    {
     "data": {
      "text/html": [
       "<div>\n",
       "<style scoped>\n",
       "    .dataframe tbody tr th:only-of-type {\n",
       "        vertical-align: middle;\n",
       "    }\n",
       "\n",
       "    .dataframe tbody tr th {\n",
       "        vertical-align: top;\n",
       "    }\n",
       "\n",
       "    .dataframe thead th {\n",
       "        text-align: right;\n",
       "    }\n",
       "</style>\n",
       "<table border=\"1\" class=\"dataframe\">\n",
       "  <thead>\n",
       "    <tr style=\"text-align: right;\">\n",
       "      <th>MUNICIPIO</th>\n",
       "      <th>1326</th>\n",
       "      <th>1318</th>\n",
       "      <th>1317</th>\n",
       "      <th>1308</th>\n",
       "      <th>1315</th>\n",
       "      <th>1302</th>\n",
       "      <th>1304</th>\n",
       "      <th>1307</th>\n",
       "      <th>1312</th>\n",
       "      <th>1311</th>\n",
       "    </tr>\n",
       "  </thead>\n",
       "  <tbody>\n",
       "    <tr>\n",
       "      <th>avg(ptrabaja)</th>\n",
       "      <td>0.274906</td>\n",
       "      <td>0.223995</td>\n",
       "      <td>0.242121</td>\n",
       "      <td>0.20914</td>\n",
       "      <td>0.2118</td>\n",
       "      <td>0.302024</td>\n",
       "      <td>0.237691</td>\n",
       "      <td>0.351601</td>\n",
       "      <td>0.299161</td>\n",
       "      <td>0.261738</td>\n",
       "    </tr>\n",
       "  </tbody>\n",
       "</table>\n",
       "</div>"
      ],
      "text/plain": [
       "MUNICIPIO          1326      1318      1317     1308    1315      1302  \\\n",
       "avg(ptrabaja)  0.274906  0.223995  0.242121  0.20914  0.2118  0.302024   \n",
       "\n",
       "MUNICIPIO          1304      1307      1312      1311  \n",
       "avg(ptrabaja)  0.237691  0.351601  0.299161  0.261738  "
      ]
     },
     "execution_count": 283,
     "metadata": {},
     "output_type": "execute_result"
    }
   ],
   "source": [
    "ptrabaja.set_index(\"MUNICIPIO\").loc[huehuemunis].T"
   ]
  },
  {
   "cell_type": "code",
   "execution_count": null,
   "id": "e753fc45-860f-4287-a709-0aae9c9a644c",
   "metadata": {},
   "outputs": [],
   "source": []
  }
 ],
 "metadata": {
  "kernelspec": {
   "display_name": "Python 3",
   "language": "python",
   "name": "python3"
  },
  "language_info": {
   "codemirror_mode": {
    "name": "ipython",
    "version": 3
   },
   "file_extension": ".py",
   "mimetype": "text/x-python",
   "name": "python",
   "nbconvert_exporter": "python",
   "pygments_lexer": "ipython3",
   "version": "3.9.4"
  }
 },
 "nbformat": 4,
 "nbformat_minor": 5
}
